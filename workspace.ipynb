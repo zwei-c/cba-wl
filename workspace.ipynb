{
 "cells": [
  {
   "cell_type": "code",
   "execution_count": 6,
   "metadata": {},
   "outputs": [
    {
     "name": "stdout",
     "output_type": "stream",
     "text": [
      "0.8333333333333334\n",
      "0.8333333333333334\n",
      "1.250936329588015\n",
      "0.8333333333333334\n",
      "0.8333333333333334\n",
      "1.250936329588015\n",
      "1.250936329588015\n",
      "1.6666666666666667\n"
     ]
    }
   ],
   "source": [
    "def f(a, b):\n",
    "    return 2 / ((1/a)+(1/b))\n",
    "\n",
    "\n",
    "d = [\n",
    "    (0.5, 2.5),\n",
    "    (0.5, 2.5),\n",
    "    (1, 1.67),\n",
    "    (0.5, 2.5),\n",
    "    (0.5, 2.5),\n",
    "    (1, 1.67),\n",
    "    (1, 1.67),\n",
    "    (1, 5)\n",
    "]\n",
    "\n",
    "for a, b in d:\n",
    "    print(f(a, b))"
   ]
  },
  {
   "cell_type": "code",
   "execution_count": 9,
   "metadata": {},
   "outputs": [
    {
     "data": {
      "text/plain": [
       "116.5165165165165"
      ]
     },
     "execution_count": 9,
     "metadata": {},
     "output_type": "execute_result"
    }
   ],
   "source": [
    "def z(a,b):\n",
    "    return a/b *100\n",
    "\n",
    "z(0.388,0.333)"
   ]
  }
 ],
 "metadata": {
  "kernelspec": {
   "display_name": ".venv",
   "language": "python",
   "name": "python3"
  },
  "language_info": {
   "codemirror_mode": {
    "name": "ipython",
    "version": 3
   },
   "file_extension": ".py",
   "mimetype": "text/x-python",
   "name": "python",
   "nbconvert_exporter": "python",
   "pygments_lexer": "ipython3",
   "version": "3.12.4"
  }
 },
 "nbformat": 4,
 "nbformat_minor": 2
}
