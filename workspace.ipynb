{
 "cells": [
  {
   "cell_type": "code",
   "execution_count": 6,
   "metadata": {},
   "outputs": [],
   "source": [
    "import pandas as pd\n",
    "\n",
    "data = pd.read_csv('./data/Congressional Voting Records.csv')\n",
    "\n",
    "data_y = data['Class']\n",
    "\n",
    "data = data.drop('Class', axis=1)\n",
    "\n",
    "# 把data class補到最後一行\n",
    "\n",
    "data['class'] = data_y\n",
    "\n",
    "data.to_csv('./data/Congressional Voting Records.csv', index=False)"
   ]
  }
 ],
 "metadata": {
  "kernelspec": {
   "display_name": ".venv",
   "language": "python",
   "name": "python3"
  },
  "language_info": {
   "codemirror_mode": {
    "name": "ipython",
    "version": 3
   },
   "file_extension": ".py",
   "mimetype": "text/x-python",
   "name": "python",
   "nbconvert_exporter": "python",
   "pygments_lexer": "ipython3",
   "version": "3.12.4"
  }
 },
 "nbformat": 4,
 "nbformat_minor": 2
}
