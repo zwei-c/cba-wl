{
 "cells": [
  {
   "cell_type": "code",
   "execution_count": 13,
   "metadata": {},
   "outputs": [],
   "source": [
    "from DataProcessing import DataProcessing\n",
    "from Car import Car\n",
    "from Cba import Cba\n",
    "from Validation import Validation\n",
    "import time\n",
    "MIN_SUPPORT = 0.01\n",
    "MIN_CONFIDENCE = 0.7\n",
    "MIN_LIFT = 1.2"
   ]
  },
  {
   "cell_type": "code",
   "execution_count": 2,
   "metadata": {},
   "outputs": [],
   "source": [
    "def compute_runtime(start_time, end_time):\n",
    "    return end_time - start_time"
   ]
  },
  {
   "cell_type": "markdown",
   "metadata": {},
   "source": [
    "## 原版 CBA\n"
   ]
  },
  {
   "cell_type": "code",
   "execution_count": 14,
   "metadata": {},
   "outputs": [
    {
     "name": "stdout",
     "output_type": "stream",
     "text": [
      "Runtime:  5.449311017990112\n",
      "              precision    recall  f1-score   support\n",
      "\n",
      "           0       0.00      0.00      0.00        63\n",
      "           1       0.00      0.00      0.00        46\n",
      "           2       0.77      1.00      0.87       198\n",
      "           3       0.42      0.95      0.58        39\n",
      "\n",
      "    accuracy                           0.68       346\n",
      "   macro avg       0.30      0.49      0.36       346\n",
      "weighted avg       0.49      0.68      0.56       346\n",
      "\n"
     ]
    }
   ],
   "source": [
    "data_procesing = DataProcessing(\"car.data\")\n",
    "data_procesing.read_data()\n",
    "data_procesing.process()\n",
    "data = data_procesing.encoded_data\n",
    "train_data, test_data = data_procesing.split_train_test_data()\n",
    "start_time = time.time()\n",
    "car = Car(train_data, MIN_SUPPORT, MIN_CONFIDENCE)\n",
    "car.generate_frequent()\n",
    "car.sort_rule(1)\n",
    "cba = Cba(train_data, car.rule)\n",
    "cba.cover()\n",
    "rules = cba.final_rules_\n",
    "default = cba.default\n",
    "end_time = time.time()\n",
    "print(\"Runtime: \", compute_runtime(start_time, end_time))\n",
    "test = Validation(test_data, rules, default, 'single')"
   ]
  },
  {
   "cell_type": "code",
   "execution_count": 6,
   "metadata": {},
   "outputs": [
    {
     "name": "stdout",
     "output_type": "stream",
     "text": [
      "3=0 => class=2 (support=0.34370477568740954, confidence=1.0, lift=1.4059003051881993)\n",
      "5=1 => class=2 (support=0.3379160636758321, confidence=1.0, lift=1.4059003051881993)\n",
      "0=3 1=3 => class=2 (support=0.0658465991316932, confidence=1.0, lift=1.4059003051881993)\n",
      "0=0 1=3 => class=2 (support=0.06439942112879884, confidence=1.0, lift=1.4059003051881993)\n",
      "0=3 1=0 => class=2 (support=0.06150506512301013, confidence=1.0, lift=1.4059003051881993)\n",
      "0=0 4=2 5=2 => class=2 (support=0.028219971056439943, confidence=1.0, lift=1.4059003051881993)\n",
      "0=3 4=2 5=2 => class=2 (support=0.027496382054992764, confidence=1.0, lift=1.4059003051881993)\n",
      "1=3 4=2 5=2 => class=2 (support=0.02604920405209841, confidence=1.0, lift=1.4059003051881993)\n",
      "1=3 2=3 4=2 => class=2 (support=0.019536903039073805, confidence=0.9642857142857142, lift=1.3556895800029063)\n",
      "0=3 2=0 4=2 => class=2 (support=0.020984081041968163, confidence=0.935483870967742, lift=1.3151970596921865)\n",
      "0=3 2=2 4=1 => class=2 (support=0.019536903039073805, confidence=0.9310344827586206, lift=1.308941663451082)\n",
      "1=3 2=0 4=2 => class=2 (support=0.019536903039073805, confidence=0.9310344827586206, lift=1.308941663451082)\n",
      "0=0 2=0 4=2 => class=2 (support=0.01808972503617945, confidence=0.9259259259259259, lift=1.3017595418409253)\n",
      "1=3 4=2 => class=2 (support=0.0788712011577424, confidence=0.9159663865546218, lift=1.287757422399275)\n",
      "1=0 2=0 4=2 5=2 => class=2 (support=0.00723589001447178, confidence=0.9090909090909092, lift=1.2780911865347269)\n",
      "1=0 2=3 4=2 5=2 => class=2 (support=0.006512301013024602, confidence=0.9, lift=1.2653102746693794)\n",
      "0=3 2=3 4=2 => class=2 (support=0.01881331403762663, confidence=0.896551724137931, lift=1.2604623425825237)\n",
      "1=3 2=0 4=1 => class=2 (support=0.01808972503617945, confidence=0.8928571428571428, lift=1.2552681296323207)\n",
      "0=3 4=2 => class=2 (support=0.07742402315484805, confidence=0.8916666666666667, lift=1.253594438792811)\n",
      "2=0 4=2 5=2 => class=2 (support=0.023154848046309694, confidence=0.8888888888888888, lift=1.2496891601672881)\n",
      "0=0 2=3 4=2 => class=2 (support=0.015918958031837915, confidence=0.88, lift=1.2371922685656154)\n",
      "0=0 4=2 => class=2 (support=0.0723589001447178, confidence=0.8771929824561403, lift=1.2332458817440344)\n",
      "0=3 2=0 4=1 => class=2 (support=0.015195369030390739, confidence=0.875, lift=1.2301627670396744)\n",
      "1=3 2=0 => class=2 (support=0.05499276410998553, confidence=0.8735632183908045, lift=1.2281427953368178)\n",
      "1=0 2=0 4=2 => class=2 (support=0.019536903039073805, confidence=0.8709677419354838, lift=1.2244938141961734)\n",
      "1=0 2=3 4=2 => class=2 (support=0.01447178002894356, confidence=0.8695652173913043, lift=1.2225220045114777)\n",
      "2=0 4=2 => class=2 (support=0.07091172214182344, confidence=0.8672566371681416, lift=1.2192763708711818)\n",
      "1=3 2=1 4=1 => class=2 (support=0.01808972503617945, confidence=0.8620689655172413, lift=1.2119830217139649)\n",
      "0=3 2=2 => class=2 (support=0.053545586107091175, confidence=0.8604651162790699, lift=1.2097281695805437)\n",
      "0=3 2=0 => class=2 (support=0.053545586107091175, confidence=0.8604651162790699, lift=1.2097281695805437)\n",
      "1=0 4=2 5=2 => class=2 (support=0.024602026049204053, confidence=0.8500000000000001, lift=1.1950152594099694)\n",
      "0=3 4=1 => class=2 (support=0.0723589001447178, confidence=0.8474576271186441, lift=1.191440936600169)\n",
      "1=3 4=1 => class=2 (support=0.07091172214182344, confidence=0.8448275862068965, lift=1.1877433612796855)\n",
      "1=3 => class=2 (support=0.2178002894356006, confidence=0.8431372549019609, lift=1.1853669239822073)\n",
      "0=3 => class=2 (support=0.2141823444283647, confidence=0.8338028169014086, lift=1.1722436347484706)\n",
      "2=3 4=2 5=2 => class=2 (support=0.02170767004341534, confidence=0.8333333333333333, lift=1.1715835876568326)\n",
      "4=2 5=2 => class=2 (support=0.08827785817655572, confidence=0.8243243243243242, lift=1.1589178191416236)\n",
      "0=0 2=0 => class=2 (support=0.05209840810419682, confidence=0.8181818181818182, lift=1.150282067881254)\n",
      "1=0 4=2 => class=2 (support=0.06657018813314038, confidence=0.8141592920353983, lift=1.1446267971443747)\n",
      "2=3 4=2 => class=2 (support=0.06295224312590449, confidence=0.7909090909090909, lift=1.1119393322852122)\n",
      "4=2 => class=2 (support=0.26049204052098407, confidence=0.7894736842105262, lift=1.109921293569631)\n",
      "1=0 2=0 => class=2 (support=0.04775687409551375, confidence=0.7857142857142857, lift=1.1046359540764423)\n",
      "Default:  3\n"
     ]
    }
   ],
   "source": [
    "for r in rules:\n",
    "    r.print_ruleitem()\n",
    "print(\"Default: \", default)"
   ]
  },
  {
   "cell_type": "markdown",
   "metadata": {},
   "source": [
    "## WCBA 隨機森林\n"
   ]
  },
  {
   "cell_type": "code",
   "execution_count": null,
   "metadata": {},
   "outputs": [
    {
     "name": "stdout",
     "output_type": "stream",
     "text": [
      "Runtime:  1.6326134204864502\n",
      "Macro F1 Score: 0.3654265873015873\n",
      "Accuracy: 0.684971098265896\n"
     ]
    }
   ],
   "source": [
    "data_procesing.get_feature_importances()\n",
    "feature_importances = data_procesing.feature_importances\n",
    "start_time = time.time()\n",
    "car = Car(data=train_data, min_support=MIN_SUPPORT,\n",
    "          min_confidence=MIN_CONFIDENCE, weights=feature_importances)\n",
    "car.generate_frequent()\n",
    "car.sort_rule(3, True)\n",
    "\n",
    "cba = Cba(train_data, car.rule)\n",
    "cba.cover()\n",
    "rules = cba.final_rules_\n",
    "default = cba.default\n",
    "end_time = time.time()\n",
    "print(\"Runtime: \", compute_runtime(start_time, end_time))\n",
    "test = Validation(test_data, rules, default, 'group')"
   ]
  },
  {
   "cell_type": "markdown",
   "metadata": {},
   "source": [
    "## APR 演算法\n"
   ]
  },
  {
   "cell_type": "code",
   "execution_count": null,
   "metadata": {},
   "outputs": [
    {
     "name": "stdout",
     "output_type": "stream",
     "text": [
      "Runtime:  0.32816243171691895\n",
      "Macro F1 Score: 0.18198529411764705\n",
      "Accuracy: 0.5722543352601156\n"
     ]
    }
   ],
   "source": [
    "start_time = time.time()\n",
    "car = Car(train_data, MIN_SUPPORT, MIN_CONFIDENCE)\n",
    "car.generate_frequent()\n",
    "car.sort_rule(1)\n",
    "cba = Cba(train_data, car.rule)\n",
    "cba.apr_cover()\n",
    "rules = cba.strong_rules\n",
    "spare_rules = cba.spare_rules\n",
    "default = cba.default\n",
    "end_time = time.time()\n",
    "print(\"Runtime: \", compute_runtime(start_time, end_time))\n",
    "test = Validation(test_data, rules, default, 'group', spare_rules)"
   ]
  },
  {
   "cell_type": "markdown",
   "metadata": {},
   "source": [
    "## CBA 加上 LIFT(排序使用 confidence+support+lift 做 sort)\n"
   ]
  },
  {
   "cell_type": "code",
   "execution_count": null,
   "metadata": {},
   "outputs": [
    {
     "name": "stdout",
     "output_type": "stream",
     "text": [
      "Runtime:  1.430823564529419\n",
      "Macro F1 Score: 0.3583944113605131\n",
      "Accuracy: 0.6676300578034682\n"
     ]
    }
   ],
   "source": [
    "MIN_LIFT = 1\n",
    "data_procesing = DataProcessing(\"car.data\")\n",
    "data_procesing.read_data()\n",
    "data_procesing.process()\n",
    "data = data_procesing.encoded_data\n",
    "train_data, test_data = data_procesing.split_train_test_data()\n",
    "start_time = time.time()\n",
    "\n",
    "\n",
    "car = Car(train_data, MIN_SUPPORT, MIN_CONFIDENCE, MIN_LIFT)\n",
    "\n",
    "\n",
    "car.generate_frequent()\n",
    "\n",
    "\n",
    "car.sort_rule(2)\n",
    "\n",
    "\n",
    "cba = Cba(train_data, car.rule)\n",
    "\n",
    "\n",
    "cba.cover()\n",
    "\n",
    "\n",
    "rules = cba.final_rules_\n",
    "\n",
    "\n",
    "default = cba.default\n",
    "end_time = time.time()\n",
    "\n",
    "\n",
    "print(\"Runtime: \", compute_runtime(start_time, end_time))\n",
    "\n",
    "\n",
    "test = Validation(test_data, rules, default, 'single')"
   ]
  },
  {
   "cell_type": "markdown",
   "metadata": {},
   "source": [
    "## CBA 加上隨機森林並拿掉重要性低的屬性\n"
   ]
  },
  {
   "cell_type": "code",
   "execution_count": null,
   "metadata": {},
   "outputs": [
    {
     "name": "stdout",
     "output_type": "stream",
     "text": [
      "Runtime:  1.205981731414795\n",
      "Macro F1 Score: 0.3758941344778255\n",
      "Accuracy: 0.6763005780346821\n"
     ]
    }
   ],
   "source": [
    "data_procesing = DataProcessing(\"car.data\")\n",
    "data_procesing.read_data()\n",
    "data_procesing.process()\n",
    "data_procesing.delete_low_importance()\n",
    "data = data_procesing.encoded_data\n",
    "train_data, test_data = data_procesing.split_train_test_data()\n",
    "start_time = time.time()\n",
    "car = Car(train_data, MIN_SUPPORT, MIN_CONFIDENCE)\n",
    "car.generate_frequent()\n",
    "car.sort_rule(1)\n",
    "cba = Cba(train_data, car.rule)\n",
    "cba.cover()\n",
    "rules = cba.final_rules_\n",
    "default = cba.default\n",
    "end_time = time.time()\n",
    "print(\"Runtime: \", compute_runtime(start_time, end_time))\n",
    "test = Validation(test_data, rules, default, 'single')"
   ]
  },
  {
   "cell_type": "markdown",
   "metadata": {},
   "source": [
    "## CBA 加上隨機森林並拿掉重要性低的屬性加上 lift\n"
   ]
  },
  {
   "cell_type": "code",
   "execution_count": null,
   "metadata": {},
   "outputs": [
    {
     "name": "stdout",
     "output_type": "stream",
     "text": [
      "Runtime:  0.6818227767944336\n",
      "Macro F1 Score: 0.3886809772630984\n",
      "Accuracy: 0.7312138728323699\n"
     ]
    }
   ],
   "source": [
    "data_procesing = DataProcessing(\"car.data\")\n",
    "data_procesing.read_data()\n",
    "data_procesing.process()\n",
    "data_procesing.delete_low_importance()\n",
    "data = data_procesing.encoded_data\n",
    "train_data, test_data = data_procesing.split_train_test_data()\n",
    "start_time = time.time()\n",
    "car = Car(train_data, MIN_SUPPORT, MIN_CONFIDENCE, MIN_LIFT)\n",
    "car.generate_frequent()\n",
    "car.sort_rule(2)\n",
    "cba = Cba(train_data, car.rule)\n",
    "cba.cover()\n",
    "rules = cba.final_rules_\n",
    "default = cba.default\n",
    "end_time = time.time()\n",
    "print(\"Runtime: \", compute_runtime(start_time, end_time))\n",
    "test = Validation(test_data, rules, default, 'single')"
   ]
  },
  {
   "cell_type": "markdown",
   "metadata": {},
   "source": [
    "## CBA 加上 APR 的剪枝方法\n"
   ]
  },
  {
   "cell_type": "code",
   "execution_count": null,
   "metadata": {},
   "outputs": [
    {
     "name": "stdout",
     "output_type": "stream",
     "text": [
      "Runtime:  0.3262200355529785\n",
      "Macro F1 Score: 0.18198529411764705\n",
      "Accuracy: 0.5722543352601156\n"
     ]
    }
   ],
   "source": [
    "# data_procesing = DataProcessing(\"car.data\")\n",
    "# data_procesing.read_data()\n",
    "# data_procesing.process()\n",
    "# data = data_procesing.encoded_data\n",
    "# train_data, test_data = data_procesing.split_train_test_data()\n",
    "start_time = time.time()\n",
    "car = Car(train_data, MIN_SUPPORT, MIN_CONFIDENCE)\n",
    "car.generate_frequent()\n",
    "car.sort_rule(1)\n",
    "cba = Cba(train_data, car.rule)\n",
    "cba.apr_cover()\n",
    "rules = cba.strong_rules\n",
    "default = cba.default\n",
    "end_time = time.time()\n",
    "print(\"Runtime: \", compute_runtime(start_time, end_time))\n",
    "test = Validation(test_data, rules, default, 'single')"
   ]
  },
  {
   "cell_type": "markdown",
   "metadata": {},
   "source": [
    "## CBA 加上隨機森林並拿掉重要性低的屬性加上 lift 加上 APR 剪枝方法\n"
   ]
  },
  {
   "cell_type": "code",
   "execution_count": null,
   "metadata": {},
   "outputs": [
    {
     "name": "stdout",
     "output_type": "stream",
     "text": [
      "Runtime:  0.10307860374450684\n",
      "Macro F1 Score: 0.18198529411764705\n",
      "Accuracy: 0.5722543352601156\n"
     ]
    }
   ],
   "source": [
    "data_procesing = DataProcessing(\"car.data\")\n",
    "data_procesing.read_data()\n",
    "data_procesing.process()\n",
    "data_procesing.delete_low_importance()\n",
    "data = data_procesing.encoded_data\n",
    "train_data, test_data = data_procesing.split_train_test_data()\n",
    "start_time = time.time()\n",
    "car = Car(train_data, MIN_SUPPORT, MIN_CONFIDENCE, MIN_LIFT)\n",
    "car.generate_frequent()\n",
    "car.sort_rule(2)\n",
    "cba = Cba(train_data, car.rule)\n",
    "cba.apr_cover()\n",
    "rules = cba.strong_rules\n",
    "default = cba.default\n",
    "end_time = time.time()\n",
    "print(\"Runtime: \", compute_runtime(start_time, end_time))\n",
    "test = Validation(test_data, rules, default, 'single')"
   ]
  },
  {
   "cell_type": "code",
   "execution_count": null,
   "metadata": {},
   "outputs": [
    {
     "name": "stdout",
     "output_type": "stream",
     "text": [
      "[{0: 0}, {0: 2}, {0: 1}, {0: 3}, {1: 1}, {1: 3}, {1: 2}, {1: 0}, {2: 3}, {2: 1}, {2: 2}, {2: 0}, {3: 2}, {3: 0}, {3: 1}, {4: 2}, {4: 0}, {4: 1}, {5: 2}, {5: 1}, {5: 0}]\n"
     ]
    }
   ],
   "source": [
    "data_procesing = DataProcessing(\"car.data\")\n",
    "data_procesing.read_data()\n",
    "data_procesing.process()\n",
    "train_data, test_data = data_procesing.split_train_test_data()\n",
    "\n",
    "train_data_without_class = train_data.drop(columns=['class'])\n",
    "\n",
    "# do apriori\n",
    "\n",
    "\n",
    "class Apriori:\n",
    "    def __init__(self, data, min_support):\n",
    "        self.data = data\n",
    "        self.min_support = min_support\n",
    "        self.support_count = round(data.shape[0] * min_support)\n",
    "        self.frequent_one = []\n",
    "        self.frequent_itemsets = []\n",
    "        self.k = 1\n",
    "\n",
    "    def getFrequentOne(self, data, min_support):\n",
    "        frequent_itemsets = []\n",
    "        for column in data.columns:\n",
    "            itemset = data[column].value_counts()\n",
    "            for index, value in itemset.items():\n",
    "                if value >= self.support_count:\n",
    "                    frequent_itemsets.append({column: index})\n",
    "        self.frequent_one = frequent_itemsets\n",
    "        self.frequent_itemsets = frequent_itemsets\n",
    "\n",
    "    def combineItemsets(self, frequent_itemset1, frequent_itemset2):\n",
    "        pass\n",
    "\n",
    "    def getFrequentItemsets(self):\n",
    "        self.getFrequentOne(self.data, self.min_support)  # 取得frequent one\n",
    "        return self.frequent_itemsets\n",
    "\n",
    "\n",
    "apriori = Apriori(train_data_without_class, MIN_SUPPORT)\n",
    "\n",
    "frequent_itemsets = apriori.getFrequentItemsets()\n",
    "\n",
    "print(frequent_itemsets)\n",
    "\n",
    "for i in range(0, len(frequent_itemsets)):\n",
    "    for j in range(i + 1, len(frequent_itemsets)):\n",
    "        key1 = sorted(list(frequent_itemsets[i].keys()))\n",
    "        key2 = sorted(list(frequent_itemsets[j].keys()))\n",
    "        if (key1[0] != key2[0]):  # 屬性不同\n",
    "            new_itemset = frequent_itemsets[i].copy()\n",
    "            new_itemset.update(frequent_itemsets[j])  # 合併\n",
    "            # 確認support\n",
    "            support = train_data_without_class[list(new_itemset.keys())].apply(\n",
    "                lambda x: all(x == list(new_itemset.values())), axis=1).sum()\n",
    "            if support >= apriori.support_count and new_itemset not in apriori.frequent_itemsets:\n",
    "                apriori.frequent_itemsets.append(new_itemset)"
   ]
  },
  {
   "cell_type": "code",
   "execution_count": null,
   "metadata": {},
   "outputs": [
    {
     "data": {
      "text/plain": [
       "48"
      ]
     },
     "execution_count": 122,
     "metadata": {},
     "output_type": "execute_result"
    }
   ],
   "source": [
    "len(apriori.frequent_itemsets)"
   ]
  }
 ],
 "metadata": {
  "kernelspec": {
   "display_name": "venv",
   "language": "python",
   "name": "python3"
  },
  "language_info": {
   "codemirror_mode": {
    "name": "ipython",
    "version": 3
   },
   "file_extension": ".py",
   "mimetype": "text/x-python",
   "name": "python",
   "nbconvert_exporter": "python",
   "pygments_lexer": "ipython3",
   "version": "3.10.12"
  },
  "orig_nbformat": 4
 },
 "nbformat": 4,
 "nbformat_minor": 2
}
