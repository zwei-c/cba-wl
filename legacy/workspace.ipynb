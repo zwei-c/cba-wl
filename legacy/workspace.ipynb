{
 "cells": [
  {
   "cell_type": "code",
   "execution_count": 6,
   "metadata": {},
   "outputs": [],
   "source": [
    "from DataProcessing import DataProcessing\n",
    "from Car import Car\n",
    "from Cba import Cba\n",
    "from Validation import Validation\n",
    "import time\n",
    "MIN_SUPPORT = 0.1\n",
    "MIN_CONFIDENCE = 0.5\n",
    "MIN_LIFT = 1"
   ]
  },
  {
   "cell_type": "code",
   "execution_count": 3,
   "metadata": {},
   "outputs": [],
   "source": [
    "def compute_runtime(start_time, end_time):\n",
    "    return end_time - start_time"
   ]
  },
  {
   "cell_type": "markdown",
   "metadata": {},
   "source": [
    "## 原版 CBA\n"
   ]
  },
  {
   "cell_type": "code",
   "execution_count": 8,
   "metadata": {},
   "outputs": [
    {
     "name": "stdout",
     "output_type": "stream",
     "text": [
      "Runtime:  1.36702299118042\n",
      "              precision    recall  f1-score   support\n",
      "\n",
      "           0       0.00      0.00      0.00        63\n",
      "           1       0.00      0.00      0.00         0\n",
      "           2       0.00      0.00      0.00        46\n",
      "           3       0.79      1.00      0.88       198\n",
      "           4       0.00      0.00      0.00        39\n",
      "\n",
      "    accuracy                           0.57       346\n",
      "   macro avg       0.16      0.20      0.18       346\n",
      "weighted avg       0.45      0.57      0.51       346\n",
      "\n"
     ]
    }
   ],
   "source": [
    "data_procesing = DataProcessing(\"car.data\")\n",
    "data_procesing.read_data()\n",
    "data_procesing.process()\n",
    "data = data_procesing.encoded_data\n",
    "train_data, test_data = data_procesing.split_train_test_data()\n",
    "start_time = time.time()\n",
    "car = Car(train_data, MIN_SUPPORT, MIN_CONFIDENCE)\n",
    "car.generate_frequent()\n",
    "car.sort_rule(1)\n",
    "cba = Cba(train_data, car.rule)\n",
    "cba.cover()\n",
    "rules = cba.final_rules_\n",
    "default = cba.default\n",
    "end_time = time.time()\n",
    "print(\"Runtime: \", compute_runtime(start_time, end_time))\n",
    "test = Validation(test_data, rules, default, 'single')"
   ]
  },
  {
   "cell_type": "markdown",
   "metadata": {},
   "source": [
    "## WCBA 隨機森林\n"
   ]
  },
  {
   "cell_type": "code",
   "execution_count": 11,
   "metadata": {},
   "outputs": [
    {
     "name": "stdout",
     "output_type": "stream",
     "text": [
      "Runtime:  1.1494834423065186\n",
      "              precision    recall  f1-score   support\n",
      "\n",
      "           0       0.00      0.00      0.00        63\n",
      "           1       0.00      0.00      0.00         0\n",
      "           2       0.00      0.00      0.00        46\n",
      "           3       0.67      1.00      0.80       198\n",
      "           4       0.00      0.00      0.00        39\n",
      "\n",
      "    accuracy                           0.57       346\n",
      "   macro avg       0.13      0.20      0.16       346\n",
      "weighted avg       0.39      0.57      0.46       346\n",
      "\n"
     ]
    }
   ],
   "source": [
    "data_procesing.get_feature_importances()\n",
    "feature_importances = data_procesing.feature_importances\n",
    "start_time = time.time()\n",
    "car = Car(data=train_data, min_support=MIN_SUPPORT,\n",
    "          min_confidence=MIN_CONFIDENCE, weights=feature_importances)\n",
    "car.generate_frequent()\n",
    "car.sort_rule(3, True)\n",
    "\n",
    "cba = Cba(train_data, car.rule)\n",
    "cba.cover()\n",
    "rules = cba.final_rules_\n",
    "default = cba.default\n",
    "end_time = time.time()\n",
    "print(\"Runtime: \", compute_runtime(start_time, end_time))\n",
    "test = Validation(test_data, rules, default, 'single')"
   ]
  },
  {
   "cell_type": "markdown",
   "metadata": {},
   "source": [
    "## APR 演算法\n"
   ]
  },
  {
   "cell_type": "code",
   "execution_count": 12,
   "metadata": {},
   "outputs": [
    {
     "name": "stdout",
     "output_type": "stream",
     "text": [
      "Runtime:  0.5499815940856934\n",
      "              precision    recall  f1-score   support\n",
      "\n",
      "           0       0.00      0.00      0.00        63\n",
      "           2       0.00      0.00      0.00        46\n",
      "           3       0.57      1.00      0.73       198\n",
      "           4       0.00      0.00      0.00        39\n",
      "\n",
      "    accuracy                           0.57       346\n",
      "   macro avg       0.14      0.25      0.18       346\n",
      "weighted avg       0.33      0.57      0.42       346\n",
      "\n"
     ]
    }
   ],
   "source": [
    "start_time = time.time()\n",
    "car = Car(train_data, MIN_SUPPORT, MIN_CONFIDENCE)\n",
    "car.generate_frequent()\n",
    "car.sort_rule(1)\n",
    "cba = Cba(train_data, car.rule)\n",
    "cba.apr_cover()\n",
    "rules = cba.strong_rules\n",
    "spare_rules = cba.spare_rules\n",
    "default = cba.default\n",
    "end_time = time.time()\n",
    "print(\"Runtime: \", compute_runtime(start_time, end_time))\n",
    "test = Validation(test_data, rules, default, 'group', spare_rules)"
   ]
  },
  {
   "cell_type": "markdown",
   "metadata": {},
   "source": [
    "## CBA 加上 LIFT(排序使用 confidence+support+lift 做 sort)\n"
   ]
  },
  {
   "cell_type": "code",
   "execution_count": 13,
   "metadata": {},
   "outputs": [
    {
     "name": "stdout",
     "output_type": "stream",
     "text": [
      "Runtime:  0.965203046798706\n",
      "              precision    recall  f1-score   support\n",
      "\n",
      "           0       0.00      0.00      0.00        63\n",
      "           2       0.00      0.00      0.00        46\n",
      "           3       0.72      1.00      0.84       198\n",
      "           4       0.46      0.85      0.59        39\n",
      "\n",
      "    accuracy                           0.67       346\n",
      "   macro avg       0.30      0.46      0.36       346\n",
      "weighted avg       0.47      0.67      0.55       346\n",
      "\n"
     ]
    }
   ],
   "source": [
    "MIN_LIFT = 1\n",
    "data_procesing = DataProcessing(\"car.data\")\n",
    "data_procesing.read_data()\n",
    "data_procesing.process()\n",
    "data = data_procesing.encoded_data\n",
    "train_data, test_data = data_procesing.split_train_test_data()\n",
    "start_time = time.time()\n",
    "\n",
    "\n",
    "car = Car(train_data, MIN_SUPPORT, MIN_CONFIDENCE, MIN_LIFT)\n",
    "\n",
    "\n",
    "car.generate_frequent()\n",
    "\n",
    "\n",
    "car.sort_rule(2)\n",
    "\n",
    "\n",
    "cba = Cba(train_data, car.rule)\n",
    "\n",
    "\n",
    "cba.cover()\n",
    "\n",
    "\n",
    "rules = cba.final_rules_\n",
    "\n",
    "\n",
    "default = cba.default\n",
    "end_time = time.time()\n",
    "\n",
    "\n",
    "print(\"Runtime: \", compute_runtime(start_time, end_time))\n",
    "\n",
    "\n",
    "test = Validation(test_data, rules, default, 'single')"
   ]
  },
  {
   "cell_type": "markdown",
   "metadata": {},
   "source": [
    "## CBA 加上隨機森林並拿掉重要性低的屬性\n"
   ]
  },
  {
   "cell_type": "code",
   "execution_count": 14,
   "metadata": {},
   "outputs": [
    {
     "name": "stdout",
     "output_type": "stream",
     "text": [
      "Runtime:  0.8581068515777588\n",
      "              precision    recall  f1-score   support\n",
      "\n",
      "           0       0.00      0.00      0.00        63\n",
      "           1       0.00      0.00      0.00         0\n",
      "           2       0.00      0.00      0.00        46\n",
      "           3       0.73      0.98      0.84       198\n",
      "           4       0.00      0.00      0.00        39\n",
      "\n",
      "    accuracy                           0.56       346\n",
      "   macro avg       0.15      0.20      0.17       346\n",
      "weighted avg       0.42      0.56      0.48       346\n",
      "\n"
     ]
    }
   ],
   "source": [
    "data_procesing = DataProcessing(\"car.data\")\n",
    "data_procesing.read_data()\n",
    "data_procesing.process()\n",
    "data_procesing.delete_low_importance()\n",
    "data = data_procesing.encoded_data\n",
    "train_data, test_data = data_procesing.split_train_test_data()\n",
    "start_time = time.time()\n",
    "car = Car(train_data, MIN_SUPPORT, MIN_CONFIDENCE)\n",
    "car.generate_frequent()\n",
    "car.sort_rule(1)\n",
    "cba = Cba(train_data, car.rule)\n",
    "cba.cover()\n",
    "rules = cba.final_rules_\n",
    "default = cba.default\n",
    "end_time = time.time()\n",
    "print(\"Runtime: \", compute_runtime(start_time, end_time))\n",
    "test = Validation(test_data, rules, default, 'single')"
   ]
  },
  {
   "cell_type": "markdown",
   "metadata": {},
   "source": [
    "## CBA 加上隨機森林並拿掉重要性低的屬性加上 lift\n"
   ]
  },
  {
   "cell_type": "code",
   "execution_count": 15,
   "metadata": {},
   "outputs": [
    {
     "name": "stdout",
     "output_type": "stream",
     "text": [
      "Runtime:  0.4817042350769043\n",
      "              precision    recall  f1-score   support\n",
      "\n",
      "           0       0.40      1.00      0.58        63\n",
      "           2       0.00      0.00      0.00        46\n",
      "           3       1.00      0.96      0.98       198\n",
      "           4       0.00      0.00      0.00        39\n",
      "\n",
      "    accuracy                           0.73       346\n",
      "   macro avg       0.35      0.49      0.39       346\n",
      "weighted avg       0.65      0.73      0.67       346\n",
      "\n"
     ]
    }
   ],
   "source": [
    "data_procesing = DataProcessing(\"car.data\")\n",
    "data_procesing.read_data()\n",
    "data_procesing.process()\n",
    "data_procesing.delete_low_importance()\n",
    "data = data_procesing.encoded_data\n",
    "train_data, test_data = data_procesing.split_train_test_data()\n",
    "start_time = time.time()\n",
    "car = Car(train_data, MIN_SUPPORT, MIN_CONFIDENCE, MIN_LIFT)\n",
    "car.generate_frequent()\n",
    "car.sort_rule(2)\n",
    "cba = Cba(train_data, car.rule)\n",
    "cba.cover()\n",
    "rules = cba.final_rules_\n",
    "default = cba.default\n",
    "end_time = time.time()\n",
    "print(\"Runtime: \", compute_runtime(start_time, end_time))\n",
    "test = Validation(test_data, rules, default, 'single')"
   ]
  },
  {
   "cell_type": "markdown",
   "metadata": {},
   "source": [
    "## CBA 加上 APR 的剪枝方法\n"
   ]
  },
  {
   "cell_type": "code",
   "execution_count": 16,
   "metadata": {},
   "outputs": [
    {
     "name": "stdout",
     "output_type": "stream",
     "text": [
      "Runtime:  0.18986725807189941\n",
      "              precision    recall  f1-score   support\n",
      "\n",
      "           0       0.00      0.00      0.00        63\n",
      "           2       0.00      0.00      0.00        46\n",
      "           3       0.57      1.00      0.73       198\n",
      "           4       0.00      0.00      0.00        39\n",
      "\n",
      "    accuracy                           0.57       346\n",
      "   macro avg       0.14      0.25      0.18       346\n",
      "weighted avg       0.33      0.57      0.42       346\n",
      "\n"
     ]
    }
   ],
   "source": [
    "# data_procesing = DataProcessing(\"car.data\")\n",
    "# data_procesing.read_data()\n",
    "# data_procesing.process()\n",
    "# data = data_procesing.encoded_data\n",
    "# train_data, test_data = data_procesing.split_train_test_data()\n",
    "start_time = time.time()\n",
    "car = Car(train_data, MIN_SUPPORT, MIN_CONFIDENCE)\n",
    "car.generate_frequent()\n",
    "car.sort_rule(1)\n",
    "cba = Cba(train_data, car.rule)\n",
    "cba.apr_cover()\n",
    "rules = cba.strong_rules\n",
    "default = cba.default\n",
    "end_time = time.time()\n",
    "print(\"Runtime: \", compute_runtime(start_time, end_time))\n",
    "test = Validation(test_data, rules, default, 'single')"
   ]
  },
  {
   "cell_type": "markdown",
   "metadata": {},
   "source": [
    "## CBA 加上隨機森林並拿掉重要性低的屬性加上 lift 加上 APR 剪枝方法\n"
   ]
  },
  {
   "cell_type": "code",
   "execution_count": 17,
   "metadata": {},
   "outputs": [
    {
     "name": "stdout",
     "output_type": "stream",
     "text": [
      "Runtime:  0.06847476959228516\n",
      "              precision    recall  f1-score   support\n",
      "\n",
      "           0       0.00      0.00      0.00        63\n",
      "           2       0.00      0.00      0.00        46\n",
      "           3       0.57      1.00      0.73       198\n",
      "           4       0.00      0.00      0.00        39\n",
      "\n",
      "    accuracy                           0.57       346\n",
      "   macro avg       0.14      0.25      0.18       346\n",
      "weighted avg       0.33      0.57      0.42       346\n",
      "\n"
     ]
    }
   ],
   "source": [
    "data_procesing = DataProcessing(\"car.data\")\n",
    "data_procesing.read_data()\n",
    "data_procesing.process()\n",
    "data_procesing.delete_low_importance()\n",
    "data = data_procesing.encoded_data\n",
    "train_data, test_data = data_procesing.split_train_test_data()\n",
    "start_time = time.time()\n",
    "car = Car(train_data, MIN_SUPPORT, MIN_CONFIDENCE, MIN_LIFT)\n",
    "car.generate_frequent()\n",
    "car.sort_rule(2)\n",
    "cba = Cba(train_data, car.rule)\n",
    "cba.apr_cover()\n",
    "rules = cba.strong_rules\n",
    "default = cba.default\n",
    "end_time = time.time()\n",
    "print(\"Runtime: \", compute_runtime(start_time, end_time))\n",
    "test = Validation(test_data, rules, default, 'single')"
   ]
  }
 ],
 "metadata": {
  "kernelspec": {
   "display_name": "venv",
   "language": "python",
   "name": "python3"
  },
  "language_info": {
   "codemirror_mode": {
    "name": "ipython",
    "version": 3
   },
   "file_extension": ".py",
   "mimetype": "text/x-python",
   "name": "python",
   "nbconvert_exporter": "python",
   "pygments_lexer": "ipython3",
   "version": "3.12.4"
  },
  "orig_nbformat": 4
 },
 "nbformat": 4,
 "nbformat_minor": 2
}
