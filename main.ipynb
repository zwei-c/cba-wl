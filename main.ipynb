{
 "cells": [
  {
   "cell_type": "code",
   "execution_count": 1,
   "metadata": {},
   "outputs": [],
   "source": [
    "from sklearn.model_selection import KFold\n",
    "from sklearn.metrics import accuracy_score, f1_score, precision_score, recall_score\n",
    "from CBAWL import CBAWL"
   ]
  },
  {
   "cell_type": "code",
   "execution_count": 7,
   "metadata": {},
   "outputs": [
    {
     "name": "stdout",
     "output_type": "stream",
     "text": [
      "Precision: 0.8297656729761946\n",
      "Recall: 0.5147254240324892\n",
      "F1: 0.42370595861795807\n",
      "Accuracy: 0.6618092105263158\n"
     ]
    }
   ],
   "source": [
    "dataset_id = 101\n",
    "\n",
    "cbawl = CBAWL(dataset_id, min_support=0.01, min_confidence=0.6, min_lift=0.9)\n",
    "data = cbawl.dataHandler.loadData()\n",
    "features = cbawl.dataHandler.oneHotEncoding(data)\n",
    "features_importance = cbawl.dataHandler.getFeaturesImportance(data)\n",
    "features = cbawl.dataHandler.delLowImportanceFeatures(data, features_importance)\n",
    "X = features\n",
    "y = data.iloc[:, -1]\n",
    "kf = KFold(n_splits=10, shuffle=True, random_state=42)\n",
    "precision = []\n",
    "recall = []\n",
    "f1 = []\n",
    "accuracy = []\n",
    "for train_index, test_index in kf.split(X):\n",
    "    X_train, X_test = X.iloc[train_index], X.iloc[test_index]\n",
    "    y_train, y_test = y.iloc[train_index], y.iloc[test_index]\n",
    "    X_train_te = cbawl.dataHandler.oneHotEncoding(X_train)\n",
    "    frequent_itemsets = cbawl.ruleGenerator.getFrequentItemsets(X_train_te)\n",
    "    strong_rules, weak_rules, default_class = cbawl.model(frequent_itemsets, X_train)\n",
    "    y_pred = cbawl.predict(strong_rules, weak_rules, default_class, X_test)\n",
    "\n",
    "    precision.append(precision_score(y_test, y_pred, average='macro', zero_division=1))\n",
    "    recall.append(recall_score(y_test, y_pred, average='macro', zero_division=1))\n",
    "    f1.append(f1_score(y_test, y_pred, average='macro', zero_division=1))\n",
    "    accuracy.append(accuracy_score(y_test, y_pred))\n",
    "\n",
    "\n",
    "print('Precision:', sum(precision)/len(precision))\n",
    "print('Recall:', sum(recall)/len(recall))\n",
    "print('F1:', sum(f1)/len(f1))\n",
    "print('Accuracy:', sum(accuracy)/len(accuracy))"
   ]
  }
 ],
 "metadata": {
  "kernelspec": {
   "display_name": ".venv",
   "language": "python",
   "name": "python3"
  },
  "language_info": {
   "codemirror_mode": {
    "name": "ipython",
    "version": 3
   },
   "file_extension": ".py",
   "mimetype": "text/x-python",
   "name": "python",
   "nbconvert_exporter": "python",
   "pygments_lexer": "ipython3",
   "version": "3.12.4"
  }
 },
 "nbformat": 4,
 "nbformat_minor": 2
}
