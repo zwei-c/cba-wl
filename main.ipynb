{
 "cells": [
  {
   "cell_type": "code",
   "execution_count": 34,
   "metadata": {},
   "outputs": [
    {
     "name": "stdout",
     "output_type": "stream",
     "text": [
      "  buying  maint doors persons lug_boot safety target\n",
      "0  vhigh  vhigh     2       2    small    low  unacc\n",
      "1  vhigh  vhigh     2       2    small    med  unacc\n",
      "2  vhigh  vhigh     2       2    small   high  unacc\n",
      "3  vhigh  vhigh     2       2      med    low  unacc\n",
      "4  vhigh  vhigh     2       2      med    med  unacc\n",
      "Features: ['buying', 'maint', 'doors', 'persons', 'lug_boot', 'safety', 'target']\n"
     ]
    }
   ],
   "source": [
    "from ucimlrepo import fetch_ucirepo\n",
    "import pandas as pd\n",
    "\n",
    "# 提取 Car Evaluation 數據集\n",
    "car_evaluation = fetch_ucirepo(id=19)\n",
    "\n",
    "# 提取特徵和目標\n",
    "features = car_evaluation.data.features\n",
    "target = car_evaluation.data.targets\n",
    "\n",
    "# 轉換為 pandas DataFrame\n",
    "df = pd.DataFrame(features, columns=car_evaluation.feature_names)\n",
    "df['target'] = target\n",
    "\n",
    "# 打印數據幀前五行來查看特徵名稱和數據\n",
    "print(df.head())\n",
    "\n",
    "# 打印特徵名稱\n",
    "print(\"Features:\", df.columns.tolist())"
   ]
  },
  {
   "cell_type": "code",
   "execution_count": 35,
   "metadata": {},
   "outputs": [
    {
     "name": "stdout",
     "output_type": "stream",
     "text": [
      "     support     itemsets\n",
      "0   0.500000          (2)\n",
      "1   0.500000          (4)\n",
      "2   0.333333        (big)\n",
      "3   0.625000       (high)\n",
      "4   0.625000        (low)\n",
      "5   0.750000        (med)\n",
      "6   0.333333       (more)\n",
      "7   0.333333      (small)\n",
      "8   0.437500      (vhigh)\n",
      "9   0.312500    (2, high)\n",
      "10  0.312500     (2, low)\n",
      "11  0.375000     (2, med)\n",
      "12  0.312500    (4, high)\n",
      "13  0.312500     (low, 4)\n",
      "14  0.375000     (med, 4)\n",
      "15  0.333333  (low, high)\n",
      "16  0.430556  (med, high)\n",
      "17  0.430556   (med, low)\n"
     ]
    }
   ],
   "source": [
    "from mlxtend.preprocessing import TransactionEncoder\n",
    "from mlxtend.frequent_patterns import apriori\n",
    "\n",
    "# 將特徵轉換為列表\n",
    "features_list = df.drop('target', axis=1).values.tolist()\n",
    "\n",
    "# 使用 TransactionEncoder 進行編碼\n",
    "te = TransactionEncoder()\n",
    "te_ary = te.fit(features_list).transform(features_list)\n",
    "\n",
    "# 將編碼後的數據轉換為 DataFrame\n",
    "te_df = pd.DataFrame(te_ary, columns=te.columns_)\n",
    "\n",
    "# 使用 apriori 算法找出頻繁項集\n",
    "frequent_itemsets = apriori(te_df, min_support=0.3, use_colnames=True)\n",
    "\n",
    "# 打印頻繁項集\n",
    "print(frequent_itemsets)"
   ]
  },
  {
   "cell_type": "code",
   "execution_count": 37,
   "metadata": {},
   "outputs": [
    {
     "name": "stdout",
     "output_type": "stream",
     "text": [
      "Feature Map: {'vhigh': 'maint', 'high': 'safety', 'med': 'safety', 'low': 'safety', '2': 'persons', '3': 'doors', '4': 'persons', '5more': 'doors', 'more': 'persons', 'small': 'lug_boot', 'big': 'lug_boot', 'unacc': 'target', 'acc': 'target', 'vgood': 'target', 'good': 'target'}\n"
     ]
    }
   ],
   "source": [
    "# 創建特徵名稱對應的字典\n",
    "feature_map = {}\n",
    "for col in df.columns:\n",
    "    unique_values = df[col].unique()\n",
    "    for value in unique_values:\n",
    "        feature_map[value] = col\n",
    "\n",
    "print(\"Feature Map:\", feature_map)"
   ]
  },
  {
   "cell_type": "code",
   "execution_count": 57,
   "metadata": {},
   "outputs": [
    {
     "name": "stdout",
     "output_type": "stream",
     "text": [
      "     support                       formatted_itemsets\n",
      "0   0.500000                       [{'persons': '2'}]\n",
      "1   0.500000                       [{'persons': '4'}]\n",
      "2   0.333333                    [{'lug_boot': 'big'}]\n",
      "3   0.625000                     [{'safety': 'high'}]\n",
      "4   0.625000                      [{'safety': 'low'}]\n",
      "5   0.750000                      [{'safety': 'med'}]\n",
      "6   0.333333                    [{'persons': 'more'}]\n",
      "7   0.333333                  [{'lug_boot': 'small'}]\n",
      "8   0.437500                     [{'maint': 'vhigh'}]\n",
      "9   0.312500   [{'persons': '2'}, {'safety': 'high'}]\n",
      "10  0.312500    [{'persons': '2'}, {'safety': 'low'}]\n",
      "11  0.375000    [{'persons': '2'}, {'safety': 'med'}]\n",
      "12  0.312500   [{'persons': '4'}, {'safety': 'high'}]\n",
      "13  0.312500    [{'safety': 'low'}, {'persons': '4'}]\n",
      "14  0.375000    [{'safety': 'med'}, {'persons': '4'}]\n",
      "15  0.333333  [{'safety': 'low'}, {'safety': 'high'}]\n",
      "16  0.430556  [{'safety': 'med'}, {'safety': 'high'}]\n",
      "17  0.430556   [{'safety': 'med'}, {'safety': 'low'}]\n"
     ]
    }
   ],
   "source": [
    "# 定義函數來生成字典格式\n",
    "def format_itemset_to_dict(itemset, feature_map):\n",
    "    formatted_dicts = [{feature_map[value]: value} for value in itemset]\n",
    "    return formatted_dicts\n",
    "\n",
    "\n",
    "# 格式化頻繁項集為字典列表\n",
    "formatted_itemsets = frequent_itemsets['itemsets'].apply(\n",
    "    lambda x: format_itemset_to_dict(x, feature_map))\n",
    "frequent_itemsets['formatted_itemsets'] = formatted_itemsets\n",
    "\n",
    "# 只保留支持度和格式化後的頻繁項集\n",
    "formatted_frequent_itemsets = frequent_itemsets[[\n",
    "    'support', 'formatted_itemsets']]\n",
    "\n",
    "print(formatted_frequent_itemsets)"
   ]
  },
  {
   "cell_type": "code",
   "execution_count": 61,
   "metadata": {},
   "outputs": [
    {
     "name": "stdout",
     "output_type": "stream",
     "text": [
      "1210\n"
     ]
    }
   ],
   "source": [
    "# 1. 特徵的頻繁項集與原始資料集做配對\n",
    "# 2. 將包含該項集的樣本取其類別與項集做配對\n",
    "# 3. 形成特徵->類別的形式的規則 {feature: (itemset), target: (class), support: (support), confidence: (confidence)}\n",
    "\n",
    "\n",
    "# 定義函數來生成規則\n",
    "def generate_rules(dataset, itemset):\n",
    "    target_count = df['target'].value_counts()\n",
    "\n",
    "    for i in range(dataset.shape[0]):\n",
    "        instance = dataset.loc[i, :]\n",
    "        instance_features = instance.drop('target').to_dict()\n",
    "        instance_target = instance['target']\n",
    "\n",
    "        if (check_itemset_in_instance(itemset, instance_features)):\n",
    "\n",
    "            return {\n",
    "                'feature': itemset,\n",
    "                'target': instance_target,\n",
    "                'support_count': 0,\n",
    "            }\n",
    "        else:\n",
    "            return None\n",
    "\n",
    "\n",
    "def check_itemset_in_instance(itemset, instance):\n",
    "    itemset_pairs = [(list(item.keys())[0], list(item.values())[0])\n",
    "                     for item in itemset]\n",
    "\n",
    "    for item_key, item_value in itemset_pairs:\n",
    "        if item_key not in instance:\n",
    "            return False\n",
    "        if item_key in instance and instance[item_key] != item_value:\n",
    "            return False\n",
    "    return True\n",
    "\n",
    "\n",
    "rules = []\n",
    "\n",
    "# for i in range(len(formatted_frequent_itemsets)):\n",
    "#     new_rule = generate_rules(\n",
    "#         df, formatted_frequent_itemsets.loc[i, 'formatted_itemsets'])"
   ]
  }
 ],
 "metadata": {
  "kernelspec": {
   "display_name": ".venv",
   "language": "python",
   "name": "python3"
  },
  "language_info": {
   "codemirror_mode": {
    "name": "ipython",
    "version": 3
   },
   "file_extension": ".py",
   "mimetype": "text/x-python",
   "name": "python",
   "nbconvert_exporter": "python",
   "pygments_lexer": "ipython3",
   "version": "3.10.12"
  }
 },
 "nbformat": 4,
 "nbformat_minor": 2
}
