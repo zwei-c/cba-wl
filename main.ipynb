{
 "cells": [
  {
   "cell_type": "code",
   "execution_count": 7,
   "metadata": {},
   "outputs": [],
   "source": [
    "from sklearn.metrics import (accuracy_score, f1_score, precision_score,\n",
    "                             recall_score)\n",
    "from sklearn.model_selection import KFold\n",
    "\n",
    "from CBA import CBA\n",
    "from CBAWL import CBAWL\n",
    "from DataHandler import DataHandler"
   ]
  },
  {
   "cell_type": "code",
   "execution_count": 8,
   "metadata": {},
   "outputs": [
    {
     "name": "stdout",
     "output_type": "stream",
     "text": [
      "Precision: 0.706479521873672\n",
      "Recall: 0.42436461388074287\n",
      "F1: 0.43104502710452386\n",
      "Accuracy: 0.8252314814814814\n"
     ]
    }
   ],
   "source": [
    "dataset_id = 19\n",
    "\n",
    "cbawl = CBAWL(dataset_id, min_support=0.1, min_confidence=0.5, min_lift=1)\n",
    "data = cbawl.dataHandler.loadData()\n",
    "features = cbawl.dataHandler.oneHotEncoding(data)\n",
    "features_importance = cbawl.dataHandler.getFeaturesImportance(data)\n",
    "features = cbawl.dataHandler.delLowImportanceFeatures(data, features_importance)\n",
    "X = features\n",
    "y = data.iloc[:, -1]\n",
    "kf = KFold(n_splits=2, shuffle=True, random_state=42)\n",
    "precision = []\n",
    "recall = []\n",
    "f1 = []\n",
    "accuracy = []\n",
    "for train_index, test_index in kf.split(X):\n",
    "    X_train, X_test = X.iloc[train_index], X.iloc[test_index]\n",
    "    y_train, y_test = y.iloc[train_index], y.iloc[test_index]\n",
    "    X_train_te = cbawl.dataHandler.oneHotEncoding(X_train)\n",
    "    frequent_itemsets = cbawl.ruleGenerator.getFrequentItemsets(X_train_te)\n",
    "    strong_rules, weak_rules, default_class = cbawl.model(frequent_itemsets, X_train)\n",
    "    y_pred = cbawl.predict(strong_rules, weak_rules, default_class, X_test)\n",
    "\n",
    "    precision.append(precision_score(y_test, y_pred, average='macro', zero_division=1))\n",
    "    recall.append(recall_score(y_test, y_pred, average='macro', zero_division=1))\n",
    "    f1.append(f1_score(y_test, y_pred, average='macro', zero_division=1))\n",
    "    accuracy.append(accuracy_score(y_test, y_pred))\n",
    "\n",
    "print('Precision:', sum(precision)/len(precision))\n",
    "print('Recall:', sum(recall)/len(recall))\n",
    "print('F1:', sum(f1)/len(f1))\n",
    "print('Accuracy:', sum(accuracy)/len(accuracy))"
   ]
  },
  {
   "cell_type": "code",
   "execution_count": 9,
   "metadata": {},
   "outputs": [
    {
     "name": "stdout",
     "output_type": "stream",
     "text": [
      "Precision: 0.9161285614104634\n",
      "Recall: 0.4774472838988968\n",
      "F1: 0.44196048128740517\n",
      "Accuracy: 0.8900462962962963\n"
     ]
    }
   ],
   "source": [
    "dataHandler = DataHandler(dataset_id)\n",
    "\n",
    "data = dataHandler.loadData()\n",
    "\n",
    "data.head(5)\n",
    "\n",
    "X = data.drop('class', axis=1)\n",
    "y = data['class']\n",
    "\n",
    "kf = KFold(n_splits=2, shuffle=True, random_state=42)\n",
    "\n",
    "precision = []\n",
    "recall = []\n",
    "f1 = []\n",
    "accuracy = []\n",
    "\n",
    "for train_index, test_index in kf.split(data):\n",
    "    train = data.iloc[train_index].reset_index(drop=True)\n",
    "    test = data.iloc[test_index].reset_index(drop=True)\n",
    "    cba = CBA(train)\n",
    "\n",
    "    ruleitemset = cba.apriori(train, 0.1, 0.5)\n",
    "    sorted_ruleitemset = sorted(ruleitemset, key=lambda x: (\n",
    "        x['confidence'], x['support'], len(x['condition'])), reverse=True)\n",
    "\n",
    "    rules, default_class = cba.prune(train, sorted_ruleitemset)\n",
    "\n",
    "    predict_y = cba.predict(test, rules, default_class)\n",
    "\n",
    "    test_y = test['class']\n",
    "\n",
    "    accuracy.append(accuracy_score(test_y, predict_y))\n",
    "    precision.append(precision_score(test_y, predict_y, average='macro', zero_division=1))\n",
    "    recall.append(recall_score(test_y, predict_y, average='macro', zero_division=1))\n",
    "    f1.append(f1_score(test_y, predict_y, average='macro', zero_division=1))\n",
    "\n",
    "print('Precision:', sum(precision) / len(precision))\n",
    "print('Recall:', sum(recall) / len(recall))\n",
    "print('F1:', sum(f1) / len(f1))\n",
    "print('Accuracy:', sum(accuracy) / len(accuracy))"
   ]
  }
 ],
 "metadata": {
  "kernelspec": {
   "display_name": ".venv",
   "language": "python",
   "name": "python3"
  },
  "language_info": {
   "codemirror_mode": {
    "name": "ipython",
    "version": 3
   },
   "file_extension": ".py",
   "mimetype": "text/x-python",
   "name": "python",
   "nbconvert_exporter": "python",
   "pygments_lexer": "ipython3",
   "version": "3.12.4"
  }
 },
 "nbformat": 4,
 "nbformat_minor": 2
}
