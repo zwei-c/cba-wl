{
 "cells": [
  {
   "cell_type": "code",
   "execution_count": 50,
   "metadata": {},
   "outputs": [],
   "source": [
    "from joblib import Parallel, delayed\n",
    "from sklearn.metrics import (accuracy_score, f1_score, precision_score,\n",
    "                             recall_score)\n",
    "from sklearn.model_selection import KFold\n",
    "\n",
    "from CBA import CBA\n",
    "from CBAWL import CBAWL\n",
    "from DataHandler import DataHandler\n",
    "from RWCBA import RWCBA\n",
    "from APR import APR\n",
    "\n",
    "dataset_id = 105\n",
    "min_sup = 0.2\n",
    "min_conf = 0.7\n",
    "min_lift = 1"
   ]
  },
  {
   "cell_type": "markdown",
   "metadata": {},
   "source": [
    "# CBAWL"
   ]
  },
  {
   "cell_type": "code",
   "execution_count": 51,
   "metadata": {},
   "outputs": [
    {
     "name": "stdout",
     "output_type": "stream",
     "text": [
      "Precision: 0.871785326106567\n",
      "Recall: 0.8690615790658892\n",
      "F1: 0.8653339275064088\n",
      "Accuracy: 0.8736257928118393\n"
     ]
    }
   ],
   "source": [
    "def perform_cross_validation(train_index, test_index, X, y, cbawl):\n",
    "    X_train, X_test = X.iloc[train_index], X.iloc[test_index]\n",
    "    y_train, y_test = y.iloc[train_index], y.iloc[test_index]\n",
    "    X_train_te = cbawl.dataHandler.oneHotEncoding(X_train)\n",
    "    frequent_itemsets = cbawl.ruleGenerator.getFrequentItemsets(X_train_te)\n",
    "    strong_rules, weak_rules, default_class = cbawl.model(frequent_itemsets, X_train)\n",
    "    y_pred = cbawl.predict(strong_rules, weak_rules, default_class, X_test)\n",
    "\n",
    "    precision = precision_score(y_test, y_pred, average='macro', zero_division=1)\n",
    "    recall = recall_score(y_test, y_pred, average='macro', zero_division=1)\n",
    "    f1 = f1_score(y_test, y_pred, average='macro', zero_division=1)\n",
    "    accuracy = accuracy_score(y_test, y_pred)\n",
    "\n",
    "    return precision, recall, f1, accuracy\n",
    "\n",
    "\n",
    "cbawl = CBAWL(dataset_id, min_sup, min_conf, min_lift)\n",
    "data = cbawl.dataHandler.loadData()\n",
    "features = cbawl.dataHandler.oneHotEncoding(data)\n",
    "features_importance = cbawl.dataHandler.getFeaturesImportance(data)\n",
    "features = cbawl.dataHandler.delLowImportanceFeatures(data, features_importance)\n",
    "X = features\n",
    "y = data.iloc[:, -1]\n",
    "\n",
    "kf = KFold(n_splits=10, shuffle=True, random_state=42)\n",
    "\n",
    "\n",
    "results = Parallel(n_jobs=-1)(\n",
    "    delayed(perform_cross_validation)(train_index, test_index, X, y, cbawl)\n",
    "    for train_index, test_index in kf.split(X)\n",
    ")\n",
    "\n",
    "# 將每個指標分開取出並計算平均值\n",
    "precision = [result[0] for result in results]\n",
    "recall = [result[1] for result in results]\n",
    "f1 = [result[2] for result in results]\n",
    "accuracy = [result[3] for result in results]\n",
    "\n",
    "print('Precision:', sum(precision)/len(precision))\n",
    "print('Recall:', sum(recall)/len(recall))\n",
    "print('F1:', sum(f1)/len(f1))\n",
    "print('Accuracy:', sum(accuracy)/len(accuracy))"
   ]
  },
  {
   "cell_type": "markdown",
   "metadata": {},
   "source": [
    "# CBA"
   ]
  },
  {
   "cell_type": "code",
   "execution_count": 52,
   "metadata": {},
   "outputs": [],
   "source": [
    "def perform_cross_validation_cba(train_index, test_index, X, y):\n",
    "    train = data.iloc[train_index].reset_index(drop=True)\n",
    "    test = data.iloc[test_index].reset_index(drop=True)\n",
    "    cba = CBA(train, min_sup, min_conf)\n",
    "    ruleitemset = cba.apriori()\n",
    "    sorted_ruleitemset = sorted(ruleitemset, key=lambda x: (\n",
    "        x['confidence'], x['support'], len(x['condition'])), reverse=True)\n",
    "    rules, default_class = cba.prune(sorted_ruleitemset)\n",
    "    predict_y = cba.predict(test, rules, default_class)\n",
    "    test_y = test['class']\n",
    "    precision = precision_score(test_y, predict_y, average='macro', zero_division=1)\n",
    "    recall = recall_score(test_y, predict_y, average='macro', zero_division=1)\n",
    "    f1 = f1_score(test_y, predict_y, average='macro', zero_division=1)\n",
    "    accuracy = accuracy_score(test_y, predict_y)\n",
    "    return precision, recall, f1, accuracy\n",
    "\n",
    "\n",
    "dataHandler = DataHandler(dataset_id)\n",
    "\n",
    "data = dataHandler.loadData()\n",
    "\n",
    "X = data.drop('class', axis=1)\n",
    "y = data['class']\n",
    "\n",
    "kf = KFold(n_splits=10, shuffle=True, random_state=42)\n",
    "\n",
    "results = Parallel(n_jobs=-1)(\n",
    "    delayed(perform_cross_validation_cba)(train_index, test_index, X, y)\n",
    "    for train_index, test_index in kf.split(X)\n",
    ")\n",
    "\n",
    "precision = [result[0] for result in results]\n",
    "recall = [result[1] for result in results]\n",
    "f1 = [result[2] for result in results]\n",
    "accuracy = [result[3] for result in results]\n",
    "\n",
    "print('Precision:', sum(precision)/len(precision))\n",
    "print('Recall:', sum(recall)/len(recall))\n",
    "print('F1:', sum(f1)/len(f1))\n",
    "print('Accuracy:', sum(accuracy)/len(accuracy))"
   ]
  },
  {
   "cell_type": "markdown",
   "metadata": {},
   "source": [
    "# RWCBA"
   ]
  },
  {
   "cell_type": "code",
   "execution_count": 48,
   "metadata": {},
   "outputs": [
    {
     "name": "stdout",
     "output_type": "stream",
     "text": [
      "Precision: 0.8214870826055037\n",
      "Recall: 0.5252972561880821\n",
      "F1: 0.5019110122657211\n",
      "Accuracy: 0.7263184843830005\n"
     ]
    }
   ],
   "source": [
    "\n",
    "def perform_cross_validation_rwcba(train_index, test_index, data, importance):\n",
    "    train = data.iloc[train_index].reset_index(drop=True)\n",
    "    test = data.iloc[test_index].reset_index(drop=True)\n",
    "    rwcba = RWCBA(train, importance)\n",
    "    ruleitemset = rwcba.apriori(min_sup, min_conf)\n",
    "    sorted_ruleitemset = sorted(ruleitemset, key=lambda x: (\n",
    "        x['hm'], x['confidence'], x['support'], len(x['condition'])), reverse=True)\n",
    "    strong_rules, spare_rules, default_class = rwcba.prune(sorted_ruleitemset)\n",
    "    predict_y = rwcba.predict(test, strong_rules, spare_rules, default_class)\n",
    "    test_y = test['class']\n",
    "    precision = precision_score(test_y, predict_y, average='macro', zero_division=1)\n",
    "    recall = recall_score(test_y, predict_y, average='macro', zero_division=1)\n",
    "    f1 = f1_score(test_y, predict_y, average='macro', zero_division=1)\n",
    "    accuracy = accuracy_score(test_y, predict_y)\n",
    "    return precision, recall, f1, accuracy\n",
    "\n",
    "\n",
    "dataHandler = DataHandler(dataset_id)\n",
    "\n",
    "data = dataHandler.loadData()\n",
    "importance = dataHandler.getFeaturesImportance(data)\n",
    "\n",
    "for i in importance:\n",
    "    importance[i] = 1 + importance[i] * len(importance)\n",
    "\n",
    "X = data.drop('class', axis=1)\n",
    "y = data['class']\n",
    "\n",
    "kf = KFold(n_splits=10, shuffle=True, random_state=42)\n",
    "\n",
    "results = Parallel(n_jobs=-1)(\n",
    "    delayed(perform_cross_validation_rwcba)(train_index, test_index, data, importance)\n",
    "    for train_index, test_index in kf.split(X)\n",
    ")\n",
    "\n",
    "precision = [result[0] for result in results]\n",
    "recall = [result[1] for result in results]\n",
    "f1 = [result[2] for result in results]\n",
    "accuracy = [result[3] for result in results]\n",
    "\n",
    "print('Precision:', sum(precision)/len(precision))\n",
    "print('Recall:', sum(recall)/len(recall))\n",
    "print('F1:', sum(f1)/len(f1))\n",
    "print('Accuracy:', sum(accuracy)/len(accuracy))"
   ]
  },
  {
   "cell_type": "markdown",
   "metadata": {},
   "source": [
    "# APR"
   ]
  },
  {
   "cell_type": "code",
   "execution_count": 49,
   "metadata": {},
   "outputs": [
    {
     "name": "stdout",
     "output_type": "stream",
     "text": [
      "Precision: 0.8085552740643726\n",
      "Recall: 0.40654676258992806\n",
      "F1: 0.3338098525449767\n",
      "Accuracy: 0.5681473744572786\n"
     ]
    }
   ],
   "source": [
    "def perform_cross_validation_apr(train_index, test_index, data):\n",
    "    train = data.iloc[train_index].reset_index(drop=True)\n",
    "    test = data.iloc[test_index].reset_index(drop=True)\n",
    "    apr = APR(train, min_sup, min_conf)\n",
    "    ruleitemset = apr.apriori()\n",
    "    sorted_ruleitemset = sorted(ruleitemset, key=lambda x: (\n",
    "        x['confidence'], x['support'], len(x['condition'])), reverse=True)\n",
    "    rules, default_class = apr.prune(sorted_ruleitemset)\n",
    "    predict_y = apr.predict(test, rules, default_class)\n",
    "    test_y = test['class']\n",
    "    precision = precision_score(test_y, predict_y, average='macro', zero_division=1)\n",
    "    recall = recall_score(test_y, predict_y, average='macro', zero_division=1)\n",
    "    f1 = f1_score(test_y, predict_y, average='macro', zero_division=1)\n",
    "    accuracy = accuracy_score(test_y, predict_y)\n",
    "    return precision, recall, f1, accuracy\n",
    "\n",
    "\n",
    "dataHandler = DataHandler(dataset_id)\n",
    "data = dataHandler.loadData()\n",
    "\n",
    "kf = KFold(n_splits=2, shuffle=True, random_state=42)\n",
    "\n",
    "results = Parallel(n_jobs=-1)(\n",
    "    delayed(perform_cross_validation_apr)(train_index, test_index, data)\n",
    "    for train_index, test_index in kf.split(data)\n",
    ")\n",
    "\n",
    "precision = [result[0] for result in results]\n",
    "recall = [result[1] for result in results]\n",
    "f1 = [result[2] for result in results]\n",
    "accuracy = [result[3] for result in results]\n",
    "\n",
    "print('Precision:', sum(precision)/len(precision))\n",
    "print('Recall:', sum(recall)/len(recall))\n",
    "print('F1:', sum(f1)/len(f1))\n",
    "print('Accuracy:', sum(accuracy)/len(accuracy))"
   ]
  }
 ],
 "metadata": {
  "kernelspec": {
   "display_name": ".venv",
   "language": "python",
   "name": "python3"
  },
  "language_info": {
   "codemirror_mode": {
    "name": "ipython",
    "version": 3
   },
   "file_extension": ".py",
   "mimetype": "text/x-python",
   "name": "python",
   "nbconvert_exporter": "python",
   "pygments_lexer": "ipython3",
   "version": "3.12.4"
  }
 },
 "nbformat": 4,
 "nbformat_minor": 2
}
